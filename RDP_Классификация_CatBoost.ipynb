{
 "cells": [
  {
   "cell_type": "code",
   "execution_count": 1,
   "metadata": {
    "executionInfo": {
     "elapsed": 2280,
     "status": "ok",
     "timestamp": 1717311282783,
     "user": {
      "displayName": "DedStarIY",
      "userId": "10791029023429426141"
     },
     "user_tz": -180
    },
    "id": "33-eo23ZDxDA"
   },
   "outputs": [],
   "source": [
    "import pandas as pd\n",
    "import numpy as np\n",
    "import matplotlib.pyplot as plt\n",
    "import numpy as np\n",
    "from sklearn.decomposition import PCA\n",
    "from sklearn.model_selection import train_test_split"
   ]
  },
  {
   "cell_type": "code",
   "execution_count": 3,
   "metadata": {
    "executionInfo": {
     "elapsed": 1295,
     "status": "ok",
     "timestamp": 1717311429883,
     "user": {
      "displayName": "DedStarIY",
      "userId": "10791029023429426141"
     },
     "user_tz": -180
    },
    "id": "ciwzR9FYD1vZ"
   },
   "outputs": [],
   "source": [
    "test_data = pd.read_csv('dataset_protocols_ABC.csv')\n",
    "a_data = pd.read_csv('protocol_a.csv')\n",
    "b_data = pd.read_csv('protocol_b.csv')\n",
    "c_data = pd.read_csv('protocol_c.csv')"
   ]
  },
  {
   "cell_type": "code",
   "execution_count": 5,
   "metadata": {
    "colab": {
     "base_uri": "https://localhost:8080/"
    },
    "executionInfo": {
     "elapsed": 197,
     "status": "ok",
     "timestamp": 1717311434212,
     "user": {
      "displayName": "DedStarIY",
      "userId": "10791029023429426141"
     },
     "user_tz": -180
    },
    "id": "nER8IbKevhoj",
    "outputId": "e1a997a8-3f82-4613-fa88-e5390c1a57b4"
   },
   "outputs": [
    {
     "data": {
      "text/plain": [
       "Index(['Unnamed: 0', 'src_ip', 'sport', 'dst_ip', 'dport', 'proto',\n",
       "       'payload_bytes_0', 'payload_bytes_1', 'payload_bytes_2',\n",
       "       'payload_bytes_3', 'payload_bytes_4', 'payload_bytes_5',\n",
       "       'payload_bytes_6', 'payload_bytes_7', 'payload_bytes_8',\n",
       "       'payload_bytes_9', 'payload_bytes_10', 'payload_bytes_11',\n",
       "       'payload_bytes_12', 'direction_0', 'direction_1', 'direction_2',\n",
       "       'direction_3', 'direction_4', 'direction_5', 'direction_6',\n",
       "       'direction_7', 'direction_8', 'direction_9', 'direction_10',\n",
       "       'direction_11', 'direction_12', 'pkt_len_0', 'pkt_len_1', 'pkt_len_2',\n",
       "       'pkt_len_3', 'pkt_len_4', 'pkt_len_5', 'pkt_len_6', 'pkt_len_7',\n",
       "       'pkt_len_8', 'pkt_len_9', 'pkt_len_10', 'pkt_len_11', 'pkt_len_12'],\n",
       "      dtype='object')"
      ]
     },
     "execution_count": 5,
     "metadata": {},
     "output_type": "execute_result"
    }
   ],
   "source": [
    "test_data.columns"
   ]
  },
  {
   "cell_type": "code",
   "execution_count": 6,
   "metadata": {
    "executionInfo": {
     "elapsed": 205,
     "status": "ok",
     "timestamp": 1717311436457,
     "user": {
      "displayName": "DedStarIY",
      "userId": "10791029023429426141"
     },
     "user_tz": -180
    },
    "id": "10sRmgYhbR4L"
   },
   "outputs": [],
   "source": [
    "def drop_columns(data):\n",
    "  data.drop(['Unnamed: 0', 'payload_bytes_0','payload_bytes_1',\t'payload_bytes_2'], axis = 1, inplace = True)\n",
    "  return data\n",
    "test_data = drop_columns(test_data)\n",
    "b_data = drop_columns(b_data)\n",
    "c_data = drop_columns(c_data)\n",
    "a_data = drop_columns(a_data)"
   ]
  },
  {
   "cell_type": "code",
   "execution_count": 7,
   "metadata": {
    "executionInfo": {
     "elapsed": 306,
     "status": "ok",
     "timestamp": 1717311438828,
     "user": {
      "displayName": "DedStarIY",
      "userId": "10791029023429426141"
     },
     "user_tz": -180
    },
    "id": "j8AvhPMewsIa"
   },
   "outputs": [],
   "source": [
    "def ip_divide(x):\n",
    "    ret = list()\n",
    "    for i in range(len(x)):\n",
    "        temp = list(map(int, x[i].split('.')))\n",
    "        ret.append(temp)\n",
    "\n",
    "    return ret\n"
   ]
  },
  {
   "cell_type": "code",
   "execution_count": 8,
   "metadata": {
    "executionInfo": {
     "elapsed": 270,
     "status": "ok",
     "timestamp": 1717311440862,
     "user": {
      "displayName": "DedStarIY",
      "userId": "10791029023429426141"
     },
     "user_tz": -180
    },
    "id": "RhkMDo3ExZEq"
   },
   "outputs": [],
   "source": [
    "prot_a_srcip = ip_divide(np.array(a_data['src_ip']))\n",
    "prot_a_dstip = ip_divide(np.array(a_data['dst_ip']))\n",
    "\n",
    "prot_b_srcip = ip_divide(np.array(b_data['src_ip']))\n",
    "prot_b_dstip = ip_divide(np.array(b_data['dst_ip']))\n",
    "\n",
    "prot_c_srcip = ip_divide(np.array(c_data['src_ip']))\n",
    "prot_c_dstip = ip_divide(np.array(c_data['dst_ip']))\n",
    "\n",
    "prot_test_srcip = ip_divide(np.array(test_data['src_ip']))\n",
    "prot_test_dstip = ip_divide(np.array(test_data['dst_ip']))"
   ]
  },
  {
   "cell_type": "code",
   "execution_count": 9,
   "metadata": {
    "executionInfo": {
     "elapsed": 568,
     "status": "ok",
     "timestamp": 1717311442406,
     "user": {
      "displayName": "DedStarIY",
      "userId": "10791029023429426141"
     },
     "user_tz": -180
    },
    "id": "5cjMnggKzPQ5"
   },
   "outputs": [],
   "source": [
    "def insert_newip(data, x, y):\n",
    "    new_data1 = pd.DataFrame(x, columns = ['0', '1', '2', '3'])\n",
    "    new_data2 = pd.DataFrame(y, columns = ['4', '5', '6', '7'])\n",
    "\n",
    "    new_data1 = new_data1.loc[~new_data1.index.duplicated(keep='first')]\n",
    "    new_data2 = new_data2.loc[~new_data2.index.duplicated(keep='first')]\n",
    "    data = data.loc[~data.index.duplicated(keep='first')]\n",
    "\n",
    "    data = pd.concat([data, new_data1, new_data2], axis = 1)\n",
    "\n",
    "    return data\n",
    "\n",
    "a_data = insert_newip(a_data, prot_a_srcip, prot_a_dstip)\n",
    "b_data = insert_newip(b_data, prot_b_srcip, prot_b_dstip)\n",
    "c_data = insert_newip(c_data, prot_c_srcip, prot_c_dstip)\n",
    "test_data = insert_newip(test_data, prot_test_srcip, prot_test_dstip)"
   ]
  },
  {
   "cell_type": "code",
   "execution_count": 10,
   "metadata": {
    "executionInfo": {
     "elapsed": 2,
     "status": "ok",
     "timestamp": 1717311443672,
     "user": {
      "displayName": "DedStarIY",
      "userId": "10791029023429426141"
     },
     "user_tz": -180
    },
    "id": "nn7o3E1b07U_"
   },
   "outputs": [],
   "source": [
    "test_data.drop(['src_ip', 'dst_ip'], axis = 1, inplace = True)\n",
    "a_data.drop(['src_ip', 'dst_ip'], axis = 1, inplace = True)\n",
    "b_data.drop(['src_ip', 'dst_ip'], axis = 1, inplace = True)\n",
    "c_data.drop(['src_ip', 'dst_ip'], axis = 1, inplace = True)\n"
   ]
  },
  {
   "cell_type": "code",
   "execution_count": 11,
   "metadata": {
    "executionInfo": {
     "elapsed": 217,
     "status": "ok",
     "timestamp": 1717311445014,
     "user": {
      "displayName": "DedStarIY",
      "userId": "10791029023429426141"
     },
     "user_tz": -180
    },
    "id": "KB4v2KRIz1al"
   },
   "outputs": [],
   "source": [
    "def convert_payload(data):\n",
    "  data = data.fillna('')\n",
    "  for i in range(3,13):\n",
    "    data[f'payload_bytes_{i}'] = data[f'payload_bytes_{i}'].apply(lambda x: len(x))\n",
    "    data[f'payload_bytes_{i}'] = data[f'payload_bytes_{i}'].replace(0, int(np.mean(data[f'payload_bytes_{i}'])))\n",
    "  return data\n",
    "\n",
    "test_data = convert_payload(test_data)\n",
    "a_data = convert_payload(a_data)\n",
    "b_data = convert_payload(b_data)\n",
    "c_data = convert_payload(c_data)"
   ]
  },
  {
   "cell_type": "code",
   "execution_count": 12,
   "metadata": {
    "executionInfo": {
     "elapsed": 198,
     "status": "ok",
     "timestamp": 1717311450412,
     "user": {
      "displayName": "DedStarIY",
      "userId": "10791029023429426141"
     },
     "user_tz": -180
    },
    "id": "nlswNiQT-5O1"
   },
   "outputs": [],
   "source": [
    "a_data['target'] = 1\n",
    "b_data['target'] = 2\n",
    "c_data['target'] = 3"
   ]
  },
  {
   "cell_type": "code",
   "execution_count": 13,
   "metadata": {
    "executionInfo": {
     "elapsed": 2,
     "status": "ok",
     "timestamp": 1717311451746,
     "user": {
      "displayName": "DedStarIY",
      "userId": "10791029023429426141"
     },
     "user_tz": -180
    },
    "id": "loTaJU-oMI9a"
   },
   "outputs": [],
   "source": [
    "a_data.drop(['dport','proto','direction_0', 'direction_1', 'direction_2', 'direction_3'], axis = 1,inplace = True)\n",
    "b_data.drop(['dport','proto','direction_0', 'direction_1', 'direction_2', 'direction_3'], axis = 1,inplace = True)\n",
    "c_data.drop(['dport','proto','direction_0', 'direction_1', 'direction_2', 'direction_3'], axis = 1,inplace = True)\n",
    "test_data.drop(['dport','proto','direction_0', 'direction_1', 'direction_2', 'direction_3'], axis = 1,inplace = True)"
   ]
  },
  {
   "cell_type": "code",
   "execution_count": 14,
   "metadata": {
    "executionInfo": {
     "elapsed": 3,
     "status": "ok",
     "timestamp": 1717311456481,
     "user": {
      "displayName": "DedStarIY",
      "userId": "10791029023429426141"
     },
     "user_tz": -180
    },
    "id": "3Dnodely-27z"
   },
   "outputs": [],
   "source": [
    "dataset = pd.concat([a_data, b_data, c_data], axis = 0)"
   ]
  },
  {
   "cell_type": "code",
   "execution_count": 15,
   "metadata": {
    "executionInfo": {
     "elapsed": 3,
     "status": "ok",
     "timestamp": 1717311457443,
     "user": {
      "displayName": "DedStarIY",
      "userId": "10791029023429426141"
     },
     "user_tz": -180
    },
    "id": "QTKHJAWX_XdN"
   },
   "outputs": [],
   "source": [
    "dataset = dataset.sample(frac= 1 )\n",
    "target = dataset['target']"
   ]
  },
  {
   "cell_type": "code",
   "execution_count": null,
   "metadata": {
    "colab": {
     "base_uri": "https://localhost:8080/",
     "height": 255
    },
    "executionInfo": {
     "elapsed": 204,
     "status": "ok",
     "timestamp": 1717260224486,
     "user": {
      "displayName": "DedStarIY",
      "userId": "10791029023429426141"
     },
     "user_tz": -180
    },
    "id": "lg0OCivoC4Ms",
    "outputId": "fc5bce96-54a2-4437-dd6f-20fc5fc3b14a"
   },
   "outputs": [
    {
     "data": {
      "application/vnd.google.colaboratory.intrinsic+json": {
       "type": "dataframe",
       "variable_name": "dataset"
      },
      "text/html": [
       "\n",
       "  <div id=\"df-8ac1c3f7-6e34-4c93-9121-5963649b45a1\" class=\"colab-df-container\">\n",
       "    <div>\n",
       "<style scoped>\n",
       "    .dataframe tbody tr th:only-of-type {\n",
       "        vertical-align: middle;\n",
       "    }\n",
       "\n",
       "    .dataframe tbody tr th {\n",
       "        vertical-align: top;\n",
       "    }\n",
       "\n",
       "    .dataframe thead th {\n",
       "        text-align: right;\n",
       "    }\n",
       "</style>\n",
       "<table border=\"1\" class=\"dataframe\">\n",
       "  <thead>\n",
       "    <tr style=\"text-align: right;\">\n",
       "      <th></th>\n",
       "      <th>sport</th>\n",
       "      <th>payload_bytes_3</th>\n",
       "      <th>payload_bytes_4</th>\n",
       "      <th>payload_bytes_5</th>\n",
       "      <th>payload_bytes_6</th>\n",
       "      <th>payload_bytes_7</th>\n",
       "      <th>payload_bytes_8</th>\n",
       "      <th>payload_bytes_9</th>\n",
       "      <th>payload_bytes_10</th>\n",
       "      <th>payload_bytes_11</th>\n",
       "      <th>...</th>\n",
       "      <th>pkt_len_12</th>\n",
       "      <th>0</th>\n",
       "      <th>1</th>\n",
       "      <th>2</th>\n",
       "      <th>3</th>\n",
       "      <th>4</th>\n",
       "      <th>5</th>\n",
       "      <th>6</th>\n",
       "      <th>7</th>\n",
       "      <th>target</th>\n",
       "    </tr>\n",
       "  </thead>\n",
       "  <tbody>\n",
       "    <tr>\n",
       "      <th>241</th>\n",
       "      <td>33598</td>\n",
       "      <td>146</td>\n",
       "      <td>121</td>\n",
       "      <td>1102</td>\n",
       "      <td>626</td>\n",
       "      <td>2696</td>\n",
       "      <td>2696</td>\n",
       "      <td>2696</td>\n",
       "      <td>1852</td>\n",
       "      <td>641</td>\n",
       "      <td>...</td>\n",
       "      <td>32</td>\n",
       "      <td>172</td>\n",
       "      <td>17</td>\n",
       "      <td>240</td>\n",
       "      <td>131</td>\n",
       "      <td>130</td>\n",
       "      <td>87</td>\n",
       "      <td>143</td>\n",
       "      <td>208</td>\n",
       "      <td>3</td>\n",
       "    </tr>\n",
       "    <tr>\n",
       "      <th>1524</th>\n",
       "      <td>53748</td>\n",
       "      <td>1106</td>\n",
       "      <td>267</td>\n",
       "      <td>198</td>\n",
       "      <td>1874</td>\n",
       "      <td>1184</td>\n",
       "      <td>673</td>\n",
       "      <td>2576</td>\n",
       "      <td>2576</td>\n",
       "      <td>2576</td>\n",
       "      <td>...</td>\n",
       "      <td>264</td>\n",
       "      <td>85</td>\n",
       "      <td>47</td>\n",
       "      <td>203</td>\n",
       "      <td>3</td>\n",
       "      <td>33</td>\n",
       "      <td>106</td>\n",
       "      <td>194</td>\n",
       "      <td>198</td>\n",
       "      <td>1</td>\n",
       "    </tr>\n",
       "    <tr>\n",
       "      <th>660</th>\n",
       "      <td>40552</td>\n",
       "      <td>1034</td>\n",
       "      <td>267</td>\n",
       "      <td>198</td>\n",
       "      <td>1874</td>\n",
       "      <td>1046</td>\n",
       "      <td>673</td>\n",
       "      <td>2796</td>\n",
       "      <td>2796</td>\n",
       "      <td>2796</td>\n",
       "      <td>...</td>\n",
       "      <td>155</td>\n",
       "      <td>74</td>\n",
       "      <td>130</td>\n",
       "      <td>215</td>\n",
       "      <td>196</td>\n",
       "      <td>128</td>\n",
       "      <td>13</td>\n",
       "      <td>130</td>\n",
       "      <td>113</td>\n",
       "      <td>1</td>\n",
       "    </tr>\n",
       "    <tr>\n",
       "      <th>587</th>\n",
       "      <td>33668</td>\n",
       "      <td>146</td>\n",
       "      <td>1344</td>\n",
       "      <td>1385</td>\n",
       "      <td>626</td>\n",
       "      <td>620</td>\n",
       "      <td>1511</td>\n",
       "      <td>196</td>\n",
       "      <td>2264</td>\n",
       "      <td>610</td>\n",
       "      <td>...</td>\n",
       "      <td>32</td>\n",
       "      <td>172</td>\n",
       "      <td>17</td>\n",
       "      <td>240</td>\n",
       "      <td>131</td>\n",
       "      <td>130</td>\n",
       "      <td>87</td>\n",
       "      <td>143</td>\n",
       "      <td>208</td>\n",
       "      <td>3</td>\n",
       "    </tr>\n",
       "    <tr>\n",
       "      <th>399</th>\n",
       "      <td>57035</td>\n",
       "      <td>428</td>\n",
       "      <td>2880</td>\n",
       "      <td>2880</td>\n",
       "      <td>1756</td>\n",
       "      <td>1475</td>\n",
       "      <td>673</td>\n",
       "      <td>490</td>\n",
       "      <td>316</td>\n",
       "      <td>102</td>\n",
       "      <td>...</td>\n",
       "      <td>89</td>\n",
       "      <td>240</td>\n",
       "      <td>18</td>\n",
       "      <td>103</td>\n",
       "      <td>211</td>\n",
       "      <td>217</td>\n",
       "      <td>136</td>\n",
       "      <td>99</td>\n",
       "      <td>126</td>\n",
       "      <td>1</td>\n",
       "    </tr>\n",
       "  </tbody>\n",
       "</table>\n",
       "<p>5 rows × 42 columns</p>\n",
       "</div>\n",
       "    <div class=\"colab-df-buttons\">\n",
       "\n",
       "  <div class=\"colab-df-container\">\n",
       "    <button class=\"colab-df-convert\" onclick=\"convertToInteractive('df-8ac1c3f7-6e34-4c93-9121-5963649b45a1')\"\n",
       "            title=\"Convert this dataframe to an interactive table.\"\n",
       "            style=\"display:none;\">\n",
       "\n",
       "  <svg xmlns=\"http://www.w3.org/2000/svg\" height=\"24px\" viewBox=\"0 -960 960 960\">\n",
       "    <path d=\"M120-120v-720h720v720H120Zm60-500h600v-160H180v160Zm220 220h160v-160H400v160Zm0 220h160v-160H400v160ZM180-400h160v-160H180v160Zm440 0h160v-160H620v160ZM180-180h160v-160H180v160Zm440 0h160v-160H620v160Z\"/>\n",
       "  </svg>\n",
       "    </button>\n",
       "\n",
       "  <style>\n",
       "    .colab-df-container {\n",
       "      display:flex;\n",
       "      gap: 12px;\n",
       "    }\n",
       "\n",
       "    .colab-df-convert {\n",
       "      background-color: #E8F0FE;\n",
       "      border: none;\n",
       "      border-radius: 50%;\n",
       "      cursor: pointer;\n",
       "      display: none;\n",
       "      fill: #1967D2;\n",
       "      height: 32px;\n",
       "      padding: 0 0 0 0;\n",
       "      width: 32px;\n",
       "    }\n",
       "\n",
       "    .colab-df-convert:hover {\n",
       "      background-color: #E2EBFA;\n",
       "      box-shadow: 0px 1px 2px rgba(60, 64, 67, 0.3), 0px 1px 3px 1px rgba(60, 64, 67, 0.15);\n",
       "      fill: #174EA6;\n",
       "    }\n",
       "\n",
       "    .colab-df-buttons div {\n",
       "      margin-bottom: 4px;\n",
       "    }\n",
       "\n",
       "    [theme=dark] .colab-df-convert {\n",
       "      background-color: #3B4455;\n",
       "      fill: #D2E3FC;\n",
       "    }\n",
       "\n",
       "    [theme=dark] .colab-df-convert:hover {\n",
       "      background-color: #434B5C;\n",
       "      box-shadow: 0px 1px 3px 1px rgba(0, 0, 0, 0.15);\n",
       "      filter: drop-shadow(0px 1px 2px rgba(0, 0, 0, 0.3));\n",
       "      fill: #FFFFFF;\n",
       "    }\n",
       "  </style>\n",
       "\n",
       "    <script>\n",
       "      const buttonEl =\n",
       "        document.querySelector('#df-8ac1c3f7-6e34-4c93-9121-5963649b45a1 button.colab-df-convert');\n",
       "      buttonEl.style.display =\n",
       "        google.colab.kernel.accessAllowed ? 'block' : 'none';\n",
       "\n",
       "      async function convertToInteractive(key) {\n",
       "        const element = document.querySelector('#df-8ac1c3f7-6e34-4c93-9121-5963649b45a1');\n",
       "        const dataTable =\n",
       "          await google.colab.kernel.invokeFunction('convertToInteractive',\n",
       "                                                    [key], {});\n",
       "        if (!dataTable) return;\n",
       "\n",
       "        const docLinkHtml = 'Like what you see? Visit the ' +\n",
       "          '<a target=\"_blank\" href=https://colab.research.google.com/notebooks/data_table.ipynb>data table notebook</a>'\n",
       "          + ' to learn more about interactive tables.';\n",
       "        element.innerHTML = '';\n",
       "        dataTable['output_type'] = 'display_data';\n",
       "        await google.colab.output.renderOutput(dataTable, element);\n",
       "        const docLink = document.createElement('div');\n",
       "        docLink.innerHTML = docLinkHtml;\n",
       "        element.appendChild(docLink);\n",
       "      }\n",
       "    </script>\n",
       "  </div>\n",
       "\n",
       "\n",
       "<div id=\"df-7ab3a973-46d5-4c00-ab4c-73f087d62a1d\">\n",
       "  <button class=\"colab-df-quickchart\" onclick=\"quickchart('df-7ab3a973-46d5-4c00-ab4c-73f087d62a1d')\"\n",
       "            title=\"Suggest charts\"\n",
       "            style=\"display:none;\">\n",
       "\n",
       "<svg xmlns=\"http://www.w3.org/2000/svg\" height=\"24px\"viewBox=\"0 0 24 24\"\n",
       "     width=\"24px\">\n",
       "    <g>\n",
       "        <path d=\"M19 3H5c-1.1 0-2 .9-2 2v14c0 1.1.9 2 2 2h14c1.1 0 2-.9 2-2V5c0-1.1-.9-2-2-2zM9 17H7v-7h2v7zm4 0h-2V7h2v10zm4 0h-2v-4h2v4z\"/>\n",
       "    </g>\n",
       "</svg>\n",
       "  </button>\n",
       "\n",
       "<style>\n",
       "  .colab-df-quickchart {\n",
       "      --bg-color: #E8F0FE;\n",
       "      --fill-color: #1967D2;\n",
       "      --hover-bg-color: #E2EBFA;\n",
       "      --hover-fill-color: #174EA6;\n",
       "      --disabled-fill-color: #AAA;\n",
       "      --disabled-bg-color: #DDD;\n",
       "  }\n",
       "\n",
       "  [theme=dark] .colab-df-quickchart {\n",
       "      --bg-color: #3B4455;\n",
       "      --fill-color: #D2E3FC;\n",
       "      --hover-bg-color: #434B5C;\n",
       "      --hover-fill-color: #FFFFFF;\n",
       "      --disabled-bg-color: #3B4455;\n",
       "      --disabled-fill-color: #666;\n",
       "  }\n",
       "\n",
       "  .colab-df-quickchart {\n",
       "    background-color: var(--bg-color);\n",
       "    border: none;\n",
       "    border-radius: 50%;\n",
       "    cursor: pointer;\n",
       "    display: none;\n",
       "    fill: var(--fill-color);\n",
       "    height: 32px;\n",
       "    padding: 0;\n",
       "    width: 32px;\n",
       "  }\n",
       "\n",
       "  .colab-df-quickchart:hover {\n",
       "    background-color: var(--hover-bg-color);\n",
       "    box-shadow: 0 1px 2px rgba(60, 64, 67, 0.3), 0 1px 3px 1px rgba(60, 64, 67, 0.15);\n",
       "    fill: var(--button-hover-fill-color);\n",
       "  }\n",
       "\n",
       "  .colab-df-quickchart-complete:disabled,\n",
       "  .colab-df-quickchart-complete:disabled:hover {\n",
       "    background-color: var(--disabled-bg-color);\n",
       "    fill: var(--disabled-fill-color);\n",
       "    box-shadow: none;\n",
       "  }\n",
       "\n",
       "  .colab-df-spinner {\n",
       "    border: 2px solid var(--fill-color);\n",
       "    border-color: transparent;\n",
       "    border-bottom-color: var(--fill-color);\n",
       "    animation:\n",
       "      spin 1s steps(1) infinite;\n",
       "  }\n",
       "\n",
       "  @keyframes spin {\n",
       "    0% {\n",
       "      border-color: transparent;\n",
       "      border-bottom-color: var(--fill-color);\n",
       "      border-left-color: var(--fill-color);\n",
       "    }\n",
       "    20% {\n",
       "      border-color: transparent;\n",
       "      border-left-color: var(--fill-color);\n",
       "      border-top-color: var(--fill-color);\n",
       "    }\n",
       "    30% {\n",
       "      border-color: transparent;\n",
       "      border-left-color: var(--fill-color);\n",
       "      border-top-color: var(--fill-color);\n",
       "      border-right-color: var(--fill-color);\n",
       "    }\n",
       "    40% {\n",
       "      border-color: transparent;\n",
       "      border-right-color: var(--fill-color);\n",
       "      border-top-color: var(--fill-color);\n",
       "    }\n",
       "    60% {\n",
       "      border-color: transparent;\n",
       "      border-right-color: var(--fill-color);\n",
       "    }\n",
       "    80% {\n",
       "      border-color: transparent;\n",
       "      border-right-color: var(--fill-color);\n",
       "      border-bottom-color: var(--fill-color);\n",
       "    }\n",
       "    90% {\n",
       "      border-color: transparent;\n",
       "      border-bottom-color: var(--fill-color);\n",
       "    }\n",
       "  }\n",
       "</style>\n",
       "\n",
       "  <script>\n",
       "    async function quickchart(key) {\n",
       "      const quickchartButtonEl =\n",
       "        document.querySelector('#' + key + ' button');\n",
       "      quickchartButtonEl.disabled = true;  // To prevent multiple clicks.\n",
       "      quickchartButtonEl.classList.add('colab-df-spinner');\n",
       "      try {\n",
       "        const charts = await google.colab.kernel.invokeFunction(\n",
       "            'suggestCharts', [key], {});\n",
       "      } catch (error) {\n",
       "        console.error('Error during call to suggestCharts:', error);\n",
       "      }\n",
       "      quickchartButtonEl.classList.remove('colab-df-spinner');\n",
       "      quickchartButtonEl.classList.add('colab-df-quickchart-complete');\n",
       "    }\n",
       "    (() => {\n",
       "      let quickchartButtonEl =\n",
       "        document.querySelector('#df-7ab3a973-46d5-4c00-ab4c-73f087d62a1d button');\n",
       "      quickchartButtonEl.style.display =\n",
       "        google.colab.kernel.accessAllowed ? 'block' : 'none';\n",
       "    })();\n",
       "  </script>\n",
       "</div>\n",
       "    </div>\n",
       "  </div>\n"
      ],
      "text/plain": [
       "      sport  payload_bytes_3  payload_bytes_4  payload_bytes_5  \\\n",
       "241   33598              146              121             1102   \n",
       "1524  53748             1106              267              198   \n",
       "660   40552             1034              267              198   \n",
       "587   33668              146             1344             1385   \n",
       "399   57035              428             2880             2880   \n",
       "\n",
       "      payload_bytes_6  payload_bytes_7  payload_bytes_8  payload_bytes_9  \\\n",
       "241               626             2696             2696             2696   \n",
       "1524             1874             1184              673             2576   \n",
       "660              1874             1046              673             2796   \n",
       "587               626              620             1511              196   \n",
       "399              1756             1475              673              490   \n",
       "\n",
       "      payload_bytes_10  payload_bytes_11  ...  pkt_len_12    0    1    2    3  \\\n",
       "241               1852               641  ...          32  172   17  240  131   \n",
       "1524              2576              2576  ...         264   85   47  203    3   \n",
       "660               2796              2796  ...         155   74  130  215  196   \n",
       "587               2264               610  ...          32  172   17  240  131   \n",
       "399                316               102  ...          89  240   18  103  211   \n",
       "\n",
       "        4    5    6    7  target  \n",
       "241   130   87  143  208       3  \n",
       "1524   33  106  194  198       1  \n",
       "660   128   13  130  113       1  \n",
       "587   130   87  143  208       3  \n",
       "399   217  136   99  126       1  \n",
       "\n",
       "[5 rows x 42 columns]"
      ]
     },
     "execution_count": 699,
     "metadata": {},
     "output_type": "execute_result"
    }
   ],
   "source": [
    "dataset.head(5)"
   ]
  },
  {
   "cell_type": "code",
   "execution_count": 16,
   "metadata": {
    "collapsed": true,
    "executionInfo": {
     "elapsed": 4,
     "status": "ok",
     "timestamp": 1717311459432,
     "user": {
      "displayName": "DedStarIY",
      "userId": "10791029023429426141"
     },
     "user_tz": -180
    },
    "id": "XfHGAHb-_kbX",
    "jupyter": {
     "outputs_hidden": true
    }
   },
   "outputs": [],
   "source": [
    "dataset.drop('target',axis = 1, inplace = True)"
   ]
  },
  {
   "cell_type": "code",
   "execution_count": 17,
   "metadata": {
    "colab": {
     "base_uri": "https://localhost:8080/"
    },
    "executionInfo": {
     "elapsed": 4,
     "status": "ok",
     "timestamp": 1717311459803,
     "user": {
      "displayName": "DedStarIY",
      "userId": "10791029023429426141"
     },
     "user_tz": -180
    },
    "id": "O7zwRPuSCD24",
    "outputId": "0204d9c1-0c37-4973-c129-290f75d2ed4b"
   },
   "outputs": [
    {
     "data": {
      "text/plain": [
       "(3161, 41)"
      ]
     },
     "execution_count": 17,
     "metadata": {},
     "output_type": "execute_result"
    }
   ],
   "source": [
    "dataset.shape"
   ]
  },
  {
   "cell_type": "markdown",
   "metadata": {
    "id": "BAvoqeOe-kcl"
   },
   "source": [
    "Dataset"
   ]
  },
  {
   "cell_type": "code",
   "execution_count": 18,
   "metadata": {
    "executionInfo": {
     "elapsed": 3,
     "status": "ok",
     "timestamp": 1717311461986,
     "user": {
      "displayName": "DedStarIY",
      "userId": "10791029023429426141"
     },
     "user_tz": -180
    },
    "id": "v7JHXFXr-Jrg"
   },
   "outputs": [],
   "source": [
    "X_train, X_test, y_train, y_test = train_test_split(\n",
    "    dataset, target, test_size=0.33, random_state=42, stratify = target)\n",
    "\n",
    "X_train_xgb = X_train\n",
    "X_train_xgb['y'] = y_train"
   ]
  },
  {
   "cell_type": "code",
   "execution_count": 19,
   "metadata": {
    "colab": {
     "base_uri": "https://localhost:8080/"
    },
    "executionInfo": {
     "elapsed": 3,
     "status": "ok",
     "timestamp": 1717311462914,
     "user": {
      "displayName": "DedStarIY",
      "userId": "10791029023429426141"
     },
     "user_tz": -180
    },
    "id": "Q22jEya1no9d",
    "outputId": "d897baa4-f0a1-496e-af31-6c4f17f6bef0"
   },
   "outputs": [
    {
     "data": {
      "text/plain": [
       "(2000, 42)"
      ]
     },
     "execution_count": 19,
     "metadata": {},
     "output_type": "execute_result"
    }
   ],
   "source": [
    "a_data.shape"
   ]
  },
  {
   "cell_type": "code",
   "execution_count": 20,
   "metadata": {
    "executionInfo": {
     "elapsed": 273,
     "status": "ok",
     "timestamp": 1717311464550,
     "user": {
      "displayName": "DedStarIY",
      "userId": "10791029023429426141"
     },
     "user_tz": -180
    },
    "id": "xAeyfxZqZMhy"
   },
   "outputs": [],
   "source": [
    "a_data_temp = a_data\n",
    "a_data_target = a_data['target']\n",
    "a_data_temp.drop('target', axis = 1, inplace = True)\n",
    "Xa_train, Xa_test, ya_train, ya_test = train_test_split(a_data_temp, a_data_target, test_size=0.8, random_state=42)"
   ]
  },
  {
   "cell_type": "code",
   "execution_count": 21,
   "metadata": {
    "colab": {
     "base_uri": "https://localhost:8080/"
    },
    "executionInfo": {
     "elapsed": 419,
     "status": "ok",
     "timestamp": 1717311465931,
     "user": {
      "displayName": "DedStarIY",
      "userId": "10791029023429426141"
     },
     "user_tz": -180
    },
    "id": "amvnEHzojTDx",
    "outputId": "8170497b-4cb2-4cb3-b5b7-a3532716ae34"
   },
   "outputs": [
    {
     "name": "stdout",
     "output_type": "stream",
     "text": [
      "(400, 41)\n",
      "(1600, 41)\n",
      "(2000, 41)\n"
     ]
    }
   ],
   "source": [
    "print(Xa_train.shape)\n",
    "print(Xa_test.shape)\n",
    "print(a_data.shape)"
   ]
  },
  {
   "cell_type": "code",
   "execution_count": 22,
   "metadata": {
    "executionInfo": {
     "elapsed": 219,
     "status": "ok",
     "timestamp": 1717311467685,
     "user": {
      "displayName": "DedStarIY",
      "userId": "10791029023429426141"
     },
     "user_tz": -180
    },
    "id": "MMxQevzeaPMF"
   },
   "outputs": [],
   "source": [
    "b_data_temp = b_data\n",
    "b_data_target = b_data['target']\n",
    "b_data_temp.drop('target', axis = 1, inplace = True)\n",
    "Xb_train, Xb_test, yb_train, yb_test = train_test_split(b_data_temp, b_data_target, test_size=0.2, random_state=42)"
   ]
  },
  {
   "cell_type": "code",
   "execution_count": 23,
   "metadata": {
    "colab": {
     "base_uri": "https://localhost:8080/"
    },
    "executionInfo": {
     "elapsed": 3,
     "status": "ok",
     "timestamp": 1717311468571,
     "user": {
      "displayName": "DedStarIY",
      "userId": "10791029023429426141"
     },
     "user_tz": -180
    },
    "id": "ZiaZOCs9oJqf",
    "outputId": "04eb90e6-b220-48c9-c5a0-57a763f78880"
   },
   "outputs": [
    {
     "name": "stdout",
     "output_type": "stream",
     "text": [
      "(128, 41)\n",
      "(33, 41)\n",
      "(161, 41)\n"
     ]
    }
   ],
   "source": [
    "print(Xb_train.shape)\n",
    "print(Xb_test.shape)\n",
    "print(b_data.shape)"
   ]
  },
  {
   "cell_type": "code",
   "execution_count": 24,
   "metadata": {
    "executionInfo": {
     "elapsed": 3,
     "status": "ok",
     "timestamp": 1717311470115,
     "user": {
      "displayName": "DedStarIY",
      "userId": "10791029023429426141"
     },
     "user_tz": -180
    },
    "id": "uDd9E293aZWq"
   },
   "outputs": [],
   "source": [
    "c_data_temp = c_data\n",
    "c_data_target = c_data['target']\n",
    "c_data_temp.drop('target', axis = 1, inplace = True)\n",
    "Xc_train, Xc_test, yc_train, yc_test = train_test_split(c_data_temp, c_data_target, test_size=0.8, random_state=42)"
   ]
  },
  {
   "cell_type": "code",
   "execution_count": 25,
   "metadata": {
    "colab": {
     "base_uri": "https://localhost:8080/"
    },
    "executionInfo": {
     "elapsed": 2,
     "status": "ok",
     "timestamp": 1717311471238,
     "user": {
      "displayName": "DedStarIY",
      "userId": "10791029023429426141"
     },
     "user_tz": -180
    },
    "id": "36u9Tz9aoSyG",
    "outputId": "461700a3-ba85-49f1-ec11-bc24c1a1e23a"
   },
   "outputs": [
    {
     "name": "stdout",
     "output_type": "stream",
     "text": [
      "(200, 41)\n",
      "(800, 41)\n",
      "(1000, 41)\n"
     ]
    }
   ],
   "source": [
    "print(Xc_train.shape)\n",
    "print(Xc_test.shape)\n",
    "print(c_data.shape)"
   ]
  },
  {
   "cell_type": "code",
   "execution_count": 26,
   "metadata": {
    "colab": {
     "base_uri": "https://localhost:8080/"
    },
    "collapsed": true,
    "executionInfo": {
     "elapsed": 6,
     "status": "ok",
     "timestamp": 1717311472791,
     "user": {
      "displayName": "DedStarIY",
      "userId": "10791029023429426141"
     },
     "user_tz": -180
    },
    "id": "7m2ZMmiaai7E",
    "jupyter": {
     "outputs_hidden": true
    },
    "outputId": "5ec2677e-3c10-4378-c576-cfa81d3ea7fb"
   },
   "outputs": [
    {
     "name": "stdout",
     "output_type": "stream",
     "text": [
      "(728, 42)\n",
      "728\n"
     ]
    }
   ],
   "source": [
    "X_temp_train = pd.concat([Xc_train,Xb_train,Xa_train], axis = 0)\n",
    "y_temp_train = pd.concat([yc_train, yb_train, ya_train], axis = 0)\n",
    "X_temp_train['target'] = y_temp_train\n",
    "X_temp_train = X_temp_train.sample(frac = 1)\n",
    "print(X_temp_train.shape)\n",
    "print(Xc_train.shape[0] + Xb_train.shape[0]+ Xa_train.shape[0])"
   ]
  },
  {
   "cell_type": "code",
   "execution_count": 27,
   "metadata": {
    "colab": {
     "base_uri": "https://localhost:8080/"
    },
    "collapsed": true,
    "executionInfo": {
     "elapsed": 215,
     "status": "ok",
     "timestamp": 1717311476053,
     "user": {
      "displayName": "DedStarIY",
      "userId": "10791029023429426141"
     },
     "user_tz": -180
    },
    "id": "Qg-Ps--JsmD6",
    "jupyter": {
     "outputs_hidden": true
    },
    "outputId": "5db3ead7-5a11-4ef2-9fd6-21f5bd2ca6ad"
   },
   "outputs": [
    {
     "name": "stdout",
     "output_type": "stream",
     "text": [
      "(2433, 42)\n",
      "2433\n"
     ]
    }
   ],
   "source": [
    "X_temp_test = pd.concat([Xc_test,Xb_test,Xa_test], axis = 0)\n",
    "y_temp_test = pd.concat([yc_test, yb_test, ya_test], axis = 0)\n",
    "X_temp_test['target'] = y_temp_test\n",
    "X_temp_test = X_temp_test.sample(frac = 1)\n",
    "print(X_temp_test.shape)\n",
    "print(Xc_test.shape[0] + Xb_test.shape[0]+ Xa_test.shape[0])"
   ]
  },
  {
   "cell_type": "code",
   "execution_count": 28,
   "metadata": {
    "colab": {
     "base_uri": "https://localhost:8080/"
    },
    "executionInfo": {
     "elapsed": 4,
     "status": "ok",
     "timestamp": 1717311478345,
     "user": {
      "displayName": "DedStarIY",
      "userId": "10791029023429426141"
     },
     "user_tz": -180
    },
    "id": "vUZCyKCjqDjp",
    "outputId": "fe971105-81e4-41ee-c07c-1efefd97e30c"
   },
   "outputs": [
    {
     "name": "stdout",
     "output_type": "stream",
     "text": [
      "3161\n",
      "(3161, 41)\n"
     ]
    }
   ],
   "source": [
    "print(X_temp_test.shape[0] + X_temp_train.shape[0])\n",
    "print(dataset.shape)"
   ]
  },
  {
   "cell_type": "code",
   "execution_count": 29,
   "metadata": {
    "executionInfo": {
     "elapsed": 215,
     "status": "ok",
     "timestamp": 1717311481458,
     "user": {
      "displayName": "DedStarIY",
      "userId": "10791029023429426141"
     },
     "user_tz": -180
    },
    "id": "qWMTg6Qsefin"
   },
   "outputs": [],
   "source": [
    "X_train_target = X_temp_train['target']\n",
    "X_test_target = X_temp_test['target']"
   ]
  },
  {
   "cell_type": "code",
   "execution_count": 30,
   "metadata": {
    "executionInfo": {
     "elapsed": 339,
     "status": "ok",
     "timestamp": 1717311483191,
     "user": {
      "displayName": "DedStarIY",
      "userId": "10791029023429426141"
     },
     "user_tz": -180
    },
    "id": "ks9RTOYvgV_Y"
   },
   "outputs": [],
   "source": [
    "X_temp_train.drop('target', axis = 1, inplace = True)\n",
    "X_temp_test.drop('target', axis = 1, inplace = True)"
   ]
  },
  {
   "cell_type": "code",
   "execution_count": null,
   "metadata": {
    "colab": {
     "background_save": true
    },
    "id": "iBiz8jcOCfR8"
   },
   "outputs": [
    {
     "ename": "ModuleNotFoundError",
     "evalue": "No module named 'catboost'",
     "output_type": "error",
     "traceback": [
      "\u001b[0;31m---------------------------------------------------------------------------\u001b[0m",
      "\u001b[0;31mModuleNotFoundError\u001b[0m                       Traceback (most recent call last)",
      "\u001b[0;32m<ipython-input-31-a396b60f2eff>\u001b[0m in \u001b[0;36m<cell line: 1>\u001b[0;34m()\u001b[0m\n\u001b[0;32m----> 1\u001b[0;31m \u001b[0;32mfrom\u001b[0m \u001b[0mcatboost\u001b[0m \u001b[0;32mimport\u001b[0m \u001b[0mCatBoostClassifier\u001b[0m\u001b[0;34m,\u001b[0m \u001b[0mPool\u001b[0m\u001b[0;34m\u001b[0m\u001b[0;34m\u001b[0m\u001b[0m\n\u001b[0m\u001b[1;32m      2\u001b[0m \u001b[0;32mfrom\u001b[0m \u001b[0msklearn\u001b[0m\u001b[0;34m.\u001b[0m\u001b[0mmetrics\u001b[0m \u001b[0;32mimport\u001b[0m \u001b[0maccuracy_score\u001b[0m\u001b[0;34m,\u001b[0m \u001b[0mconfusion_matrix\u001b[0m\u001b[0;34m,\u001b[0m \u001b[0mclassification_report\u001b[0m\u001b[0;34m\u001b[0m\u001b[0;34m\u001b[0m\u001b[0m\n",
      "\u001b[0;31mModuleNotFoundError\u001b[0m: No module named 'catboost'",
      "",
      "\u001b[0;31m---------------------------------------------------------------------------\u001b[0;32m\nNOTE: If your import is failing due to a missing package, you can\nmanually install dependencies using either !pip or !apt.\n\nTo view examples of installing some common dependencies, click the\n\"Open Examples\" button below.\n\u001b[0;31m---------------------------------------------------------------------------\u001b[0m\n"
     ]
    }
   ],
   "source": [
    "from catboost import CatBoostClassifier, Pool\n",
    "from sklearn.metrics import accuracy_score, confusion_matrix, classification_report"
   ]
  },
  {
   "cell_type": "code",
   "execution_count": null,
   "metadata": {
    "id": "c2B9XNhnChcV"
   },
   "outputs": [],
   "source": [
    "model_params = {'iterations':200, 'learning_rate':0.1, 'depth':6, 'verbose':100}\n",
    "model = CatBoostClassifier(**model_params)\n"
   ]
  },
  {
   "cell_type": "code",
   "execution_count": null,
   "metadata": {
    "colab": {
     "base_uri": "https://localhost:8080/"
    },
    "executionInfo": {
     "elapsed": 3043,
     "status": "ok",
     "timestamp": 1717263315696,
     "user": {
      "displayName": "DedStarIY",
      "userId": "10791029023429426141"
     },
     "user_tz": -180
    },
    "id": "UowgKljZCkUS",
    "outputId": "31f05381-075d-4a73-c83e-a827593057b8"
   },
   "outputs": [
    {
     "name": "stdout",
     "output_type": "stream",
     "text": [
      "0:\tlearn: 0.9475270\ttotal: 12.8ms\tremaining: 2.54s\n",
      "100:\tlearn: 0.0073361\ttotal: 1.55s\tremaining: 1.52s\n",
      "199:\tlearn: 0.0026249\ttotal: 2.75s\tremaining: 0us\n",
      "Accuracy: 0.9975339087546239\n"
     ]
    }
   ],
   "source": [
    "model.fit(X_temp_train, X_train_target)\n",
    "\n",
    "# Предсказания на тестовом наборе\n",
    "y_pred = model.predict(X_temp_test)\n",
    "\n",
    "# Оценка точности модели\n",
    "accuracy = accuracy_score(X_test_target, y_pred)\n",
    "print(f\"Accuracy: {accuracy}\")"
   ]
  },
  {
   "cell_type": "code",
   "execution_count": null,
   "metadata": {
    "colab": {
     "base_uri": "https://localhost:8080/",
     "height": 443
    },
    "executionInfo": {
     "elapsed": 219,
     "status": "ok",
     "timestamp": 1717263320577,
     "user": {
      "displayName": "DedStarIY",
      "userId": "10791029023429426141"
     },
     "user_tz": -180
    },
    "id": "1vr8f3SF3QWQ",
    "outputId": "0253a293-c4ec-4fd8-9122-cb6ffa1a6742"
   },
   "outputs": [
    {
     "data": {
      "application/vnd.google.colaboratory.intrinsic+json": {
       "type": "dataframe",
       "variable_name": "test_data"
      },
      "text/html": [
       "\n",
       "  <div id=\"df-f3e1be20-bc68-42e7-866b-93318d594be0\" class=\"colab-df-container\">\n",
       "    <div>\n",
       "<style scoped>\n",
       "    .dataframe tbody tr th:only-of-type {\n",
       "        vertical-align: middle;\n",
       "    }\n",
       "\n",
       "    .dataframe tbody tr th {\n",
       "        vertical-align: top;\n",
       "    }\n",
       "\n",
       "    .dataframe thead th {\n",
       "        text-align: right;\n",
       "    }\n",
       "</style>\n",
       "<table border=\"1\" class=\"dataframe\">\n",
       "  <thead>\n",
       "    <tr style=\"text-align: right;\">\n",
       "      <th></th>\n",
       "      <th>sport</th>\n",
       "      <th>payload_bytes_3</th>\n",
       "      <th>payload_bytes_4</th>\n",
       "      <th>payload_bytes_5</th>\n",
       "      <th>payload_bytes_6</th>\n",
       "      <th>payload_bytes_7</th>\n",
       "      <th>payload_bytes_8</th>\n",
       "      <th>payload_bytes_9</th>\n",
       "      <th>payload_bytes_10</th>\n",
       "      <th>payload_bytes_11</th>\n",
       "      <th>...</th>\n",
       "      <th>pkt_len_11</th>\n",
       "      <th>pkt_len_12</th>\n",
       "      <th>0</th>\n",
       "      <th>1</th>\n",
       "      <th>2</th>\n",
       "      <th>3</th>\n",
       "      <th>4</th>\n",
       "      <th>5</th>\n",
       "      <th>6</th>\n",
       "      <th>7</th>\n",
       "    </tr>\n",
       "  </thead>\n",
       "  <tbody>\n",
       "    <tr>\n",
       "      <th>0</th>\n",
       "      <td>63868</td>\n",
       "      <td>370</td>\n",
       "      <td>210</td>\n",
       "      <td>1832</td>\n",
       "      <td>754</td>\n",
       "      <td>338</td>\n",
       "      <td>2456</td>\n",
       "      <td>2456</td>\n",
       "      <td>2456</td>\n",
       "      <td>2456</td>\n",
       "      <td>...</td>\n",
       "      <td>1260</td>\n",
       "      <td>1260</td>\n",
       "      <td>55</td>\n",
       "      <td>120</td>\n",
       "      <td>147</td>\n",
       "      <td>65</td>\n",
       "      <td>170</td>\n",
       "      <td>14</td>\n",
       "      <td>68</td>\n",
       "      <td>136</td>\n",
       "    </tr>\n",
       "    <tr>\n",
       "      <th>1</th>\n",
       "      <td>57492</td>\n",
       "      <td>1034</td>\n",
       "      <td>2402</td>\n",
       "      <td>1832</td>\n",
       "      <td>1434</td>\n",
       "      <td>128</td>\n",
       "      <td>2800</td>\n",
       "      <td>2800</td>\n",
       "      <td>2050</td>\n",
       "      <td>542</td>\n",
       "      <td>...</td>\n",
       "      <td>291</td>\n",
       "      <td>291</td>\n",
       "      <td>66</td>\n",
       "      <td>116</td>\n",
       "      <td>25</td>\n",
       "      <td>18</td>\n",
       "      <td>218</td>\n",
       "      <td>70</td>\n",
       "      <td>73</td>\n",
       "      <td>126</td>\n",
       "    </tr>\n",
       "    <tr>\n",
       "      <th>2</th>\n",
       "      <td>39921</td>\n",
       "      <td>1034</td>\n",
       "      <td>283</td>\n",
       "      <td>2696</td>\n",
       "      <td>2696</td>\n",
       "      <td>2492</td>\n",
       "      <td>762</td>\n",
       "      <td>582</td>\n",
       "      <td>410</td>\n",
       "      <td>160</td>\n",
       "      <td>...</td>\n",
       "      <td>112</td>\n",
       "      <td>335</td>\n",
       "      <td>91</td>\n",
       "      <td>253</td>\n",
       "      <td>185</td>\n",
       "      <td>139</td>\n",
       "      <td>243</td>\n",
       "      <td>67</td>\n",
       "      <td>106</td>\n",
       "      <td>209</td>\n",
       "    </tr>\n",
       "    <tr>\n",
       "      <th>3</th>\n",
       "      <td>42404</td>\n",
       "      <td>2456</td>\n",
       "      <td>1112</td>\n",
       "      <td>338</td>\n",
       "      <td>1720</td>\n",
       "      <td>1048</td>\n",
       "      <td>1560</td>\n",
       "      <td>1048</td>\n",
       "      <td>2456</td>\n",
       "      <td>1200</td>\n",
       "      <td>...</td>\n",
       "      <td>632</td>\n",
       "      <td>32</td>\n",
       "      <td>87</td>\n",
       "      <td>188</td>\n",
       "      <td>167</td>\n",
       "      <td>158</td>\n",
       "      <td>27</td>\n",
       "      <td>179</td>\n",
       "      <td>73</td>\n",
       "      <td>232</td>\n",
       "    </tr>\n",
       "    <tr>\n",
       "      <th>4</th>\n",
       "      <td>41070</td>\n",
       "      <td>1034</td>\n",
       "      <td>283</td>\n",
       "      <td>312</td>\n",
       "      <td>1434</td>\n",
       "      <td>102</td>\n",
       "      <td>762</td>\n",
       "      <td>2446</td>\n",
       "      <td>410</td>\n",
       "      <td>344</td>\n",
       "      <td>...</td>\n",
       "      <td>204</td>\n",
       "      <td>63</td>\n",
       "      <td>97</td>\n",
       "      <td>46</td>\n",
       "      <td>98</td>\n",
       "      <td>210</td>\n",
       "      <td>215</td>\n",
       "      <td>102</td>\n",
       "      <td>164</td>\n",
       "      <td>108</td>\n",
       "    </tr>\n",
       "    <tr>\n",
       "      <th>...</th>\n",
       "      <td>...</td>\n",
       "      <td>...</td>\n",
       "      <td>...</td>\n",
       "      <td>...</td>\n",
       "      <td>...</td>\n",
       "      <td>...</td>\n",
       "      <td>...</td>\n",
       "      <td>...</td>\n",
       "      <td>...</td>\n",
       "      <td>...</td>\n",
       "      <td>...</td>\n",
       "      <td>...</td>\n",
       "      <td>...</td>\n",
       "      <td>...</td>\n",
       "      <td>...</td>\n",
       "      <td>...</td>\n",
       "      <td>...</td>\n",
       "      <td>...</td>\n",
       "      <td>...</td>\n",
       "      <td>...</td>\n",
       "      <td>...</td>\n",
       "    </tr>\n",
       "    <tr>\n",
       "      <th>2282</th>\n",
       "      <td>40716</td>\n",
       "      <td>1946</td>\n",
       "      <td>283</td>\n",
       "      <td>652</td>\n",
       "      <td>1434</td>\n",
       "      <td>228</td>\n",
       "      <td>1284</td>\n",
       "      <td>582</td>\n",
       "      <td>410</td>\n",
       "      <td>1266</td>\n",
       "      <td>...</td>\n",
       "      <td>665</td>\n",
       "      <td>674</td>\n",
       "      <td>172</td>\n",
       "      <td>17</td>\n",
       "      <td>240</td>\n",
       "      <td>131</td>\n",
       "      <td>130</td>\n",
       "      <td>87</td>\n",
       "      <td>143</td>\n",
       "      <td>208</td>\n",
       "    </tr>\n",
       "    <tr>\n",
       "      <th>2283</th>\n",
       "      <td>33524</td>\n",
       "      <td>2456</td>\n",
       "      <td>2456</td>\n",
       "      <td>904</td>\n",
       "      <td>2456</td>\n",
       "      <td>788</td>\n",
       "      <td>762</td>\n",
       "      <td>338</td>\n",
       "      <td>410</td>\n",
       "      <td>2456</td>\n",
       "      <td>...</td>\n",
       "      <td>1260</td>\n",
       "      <td>1260</td>\n",
       "      <td>131</td>\n",
       "      <td>48</td>\n",
       "      <td>141</td>\n",
       "      <td>198</td>\n",
       "      <td>170</td>\n",
       "      <td>14</td>\n",
       "      <td>68</td>\n",
       "      <td>136</td>\n",
       "    </tr>\n",
       "    <tr>\n",
       "      <th>2284</th>\n",
       "      <td>55966</td>\n",
       "      <td>2456</td>\n",
       "      <td>1296</td>\n",
       "      <td>178</td>\n",
       "      <td>2456</td>\n",
       "      <td>2456</td>\n",
       "      <td>2456</td>\n",
       "      <td>2456</td>\n",
       "      <td>2456</td>\n",
       "      <td>2456</td>\n",
       "      <td>...</td>\n",
       "      <td>1260</td>\n",
       "      <td>1260</td>\n",
       "      <td>241</td>\n",
       "      <td>200</td>\n",
       "      <td>198</td>\n",
       "      <td>21</td>\n",
       "      <td>170</td>\n",
       "      <td>14</td>\n",
       "      <td>68</td>\n",
       "      <td>136</td>\n",
       "    </tr>\n",
       "    <tr>\n",
       "      <th>2285</th>\n",
       "      <td>43136</td>\n",
       "      <td>1648</td>\n",
       "      <td>283</td>\n",
       "      <td>600</td>\n",
       "      <td>1434</td>\n",
       "      <td>196</td>\n",
       "      <td>252</td>\n",
       "      <td>928</td>\n",
       "      <td>410</td>\n",
       "      <td>566</td>\n",
       "      <td>...</td>\n",
       "      <td>32</td>\n",
       "      <td>32</td>\n",
       "      <td>172</td>\n",
       "      <td>17</td>\n",
       "      <td>240</td>\n",
       "      <td>131</td>\n",
       "      <td>130</td>\n",
       "      <td>87</td>\n",
       "      <td>143</td>\n",
       "      <td>208</td>\n",
       "    </tr>\n",
       "    <tr>\n",
       "      <th>2286</th>\n",
       "      <td>58778</td>\n",
       "      <td>1034</td>\n",
       "      <td>2796</td>\n",
       "      <td>2796</td>\n",
       "      <td>442</td>\n",
       "      <td>1077</td>\n",
       "      <td>762</td>\n",
       "      <td>582</td>\n",
       "      <td>186</td>\n",
       "      <td>566</td>\n",
       "      <td>...</td>\n",
       "      <td>32</td>\n",
       "      <td>237</td>\n",
       "      <td>75</td>\n",
       "      <td>9</td>\n",
       "      <td>212</td>\n",
       "      <td>91</td>\n",
       "      <td>22</td>\n",
       "      <td>59</td>\n",
       "      <td>196</td>\n",
       "      <td>106</td>\n",
       "    </tr>\n",
       "  </tbody>\n",
       "</table>\n",
       "<p>2287 rows × 41 columns</p>\n",
       "</div>\n",
       "    <div class=\"colab-df-buttons\">\n",
       "\n",
       "  <div class=\"colab-df-container\">\n",
       "    <button class=\"colab-df-convert\" onclick=\"convertToInteractive('df-f3e1be20-bc68-42e7-866b-93318d594be0')\"\n",
       "            title=\"Convert this dataframe to an interactive table.\"\n",
       "            style=\"display:none;\">\n",
       "\n",
       "  <svg xmlns=\"http://www.w3.org/2000/svg\" height=\"24px\" viewBox=\"0 -960 960 960\">\n",
       "    <path d=\"M120-120v-720h720v720H120Zm60-500h600v-160H180v160Zm220 220h160v-160H400v160Zm0 220h160v-160H400v160ZM180-400h160v-160H180v160Zm440 0h160v-160H620v160ZM180-180h160v-160H180v160Zm440 0h160v-160H620v160Z\"/>\n",
       "  </svg>\n",
       "    </button>\n",
       "\n",
       "  <style>\n",
       "    .colab-df-container {\n",
       "      display:flex;\n",
       "      gap: 12px;\n",
       "    }\n",
       "\n",
       "    .colab-df-convert {\n",
       "      background-color: #E8F0FE;\n",
       "      border: none;\n",
       "      border-radius: 50%;\n",
       "      cursor: pointer;\n",
       "      display: none;\n",
       "      fill: #1967D2;\n",
       "      height: 32px;\n",
       "      padding: 0 0 0 0;\n",
       "      width: 32px;\n",
       "    }\n",
       "\n",
       "    .colab-df-convert:hover {\n",
       "      background-color: #E2EBFA;\n",
       "      box-shadow: 0px 1px 2px rgba(60, 64, 67, 0.3), 0px 1px 3px 1px rgba(60, 64, 67, 0.15);\n",
       "      fill: #174EA6;\n",
       "    }\n",
       "\n",
       "    .colab-df-buttons div {\n",
       "      margin-bottom: 4px;\n",
       "    }\n",
       "\n",
       "    [theme=dark] .colab-df-convert {\n",
       "      background-color: #3B4455;\n",
       "      fill: #D2E3FC;\n",
       "    }\n",
       "\n",
       "    [theme=dark] .colab-df-convert:hover {\n",
       "      background-color: #434B5C;\n",
       "      box-shadow: 0px 1px 3px 1px rgba(0, 0, 0, 0.15);\n",
       "      filter: drop-shadow(0px 1px 2px rgba(0, 0, 0, 0.3));\n",
       "      fill: #FFFFFF;\n",
       "    }\n",
       "  </style>\n",
       "\n",
       "    <script>\n",
       "      const buttonEl =\n",
       "        document.querySelector('#df-f3e1be20-bc68-42e7-866b-93318d594be0 button.colab-df-convert');\n",
       "      buttonEl.style.display =\n",
       "        google.colab.kernel.accessAllowed ? 'block' : 'none';\n",
       "\n",
       "      async function convertToInteractive(key) {\n",
       "        const element = document.querySelector('#df-f3e1be20-bc68-42e7-866b-93318d594be0');\n",
       "        const dataTable =\n",
       "          await google.colab.kernel.invokeFunction('convertToInteractive',\n",
       "                                                    [key], {});\n",
       "        if (!dataTable) return;\n",
       "\n",
       "        const docLinkHtml = 'Like what you see? Visit the ' +\n",
       "          '<a target=\"_blank\" href=https://colab.research.google.com/notebooks/data_table.ipynb>data table notebook</a>'\n",
       "          + ' to learn more about interactive tables.';\n",
       "        element.innerHTML = '';\n",
       "        dataTable['output_type'] = 'display_data';\n",
       "        await google.colab.output.renderOutput(dataTable, element);\n",
       "        const docLink = document.createElement('div');\n",
       "        docLink.innerHTML = docLinkHtml;\n",
       "        element.appendChild(docLink);\n",
       "      }\n",
       "    </script>\n",
       "  </div>\n",
       "\n",
       "\n",
       "<div id=\"df-f247083d-cdc4-488e-b3a6-fefa44756343\">\n",
       "  <button class=\"colab-df-quickchart\" onclick=\"quickchart('df-f247083d-cdc4-488e-b3a6-fefa44756343')\"\n",
       "            title=\"Suggest charts\"\n",
       "            style=\"display:none;\">\n",
       "\n",
       "<svg xmlns=\"http://www.w3.org/2000/svg\" height=\"24px\"viewBox=\"0 0 24 24\"\n",
       "     width=\"24px\">\n",
       "    <g>\n",
       "        <path d=\"M19 3H5c-1.1 0-2 .9-2 2v14c0 1.1.9 2 2 2h14c1.1 0 2-.9 2-2V5c0-1.1-.9-2-2-2zM9 17H7v-7h2v7zm4 0h-2V7h2v10zm4 0h-2v-4h2v4z\"/>\n",
       "    </g>\n",
       "</svg>\n",
       "  </button>\n",
       "\n",
       "<style>\n",
       "  .colab-df-quickchart {\n",
       "      --bg-color: #E8F0FE;\n",
       "      --fill-color: #1967D2;\n",
       "      --hover-bg-color: #E2EBFA;\n",
       "      --hover-fill-color: #174EA6;\n",
       "      --disabled-fill-color: #AAA;\n",
       "      --disabled-bg-color: #DDD;\n",
       "  }\n",
       "\n",
       "  [theme=dark] .colab-df-quickchart {\n",
       "      --bg-color: #3B4455;\n",
       "      --fill-color: #D2E3FC;\n",
       "      --hover-bg-color: #434B5C;\n",
       "      --hover-fill-color: #FFFFFF;\n",
       "      --disabled-bg-color: #3B4455;\n",
       "      --disabled-fill-color: #666;\n",
       "  }\n",
       "\n",
       "  .colab-df-quickchart {\n",
       "    background-color: var(--bg-color);\n",
       "    border: none;\n",
       "    border-radius: 50%;\n",
       "    cursor: pointer;\n",
       "    display: none;\n",
       "    fill: var(--fill-color);\n",
       "    height: 32px;\n",
       "    padding: 0;\n",
       "    width: 32px;\n",
       "  }\n",
       "\n",
       "  .colab-df-quickchart:hover {\n",
       "    background-color: var(--hover-bg-color);\n",
       "    box-shadow: 0 1px 2px rgba(60, 64, 67, 0.3), 0 1px 3px 1px rgba(60, 64, 67, 0.15);\n",
       "    fill: var(--button-hover-fill-color);\n",
       "  }\n",
       "\n",
       "  .colab-df-quickchart-complete:disabled,\n",
       "  .colab-df-quickchart-complete:disabled:hover {\n",
       "    background-color: var(--disabled-bg-color);\n",
       "    fill: var(--disabled-fill-color);\n",
       "    box-shadow: none;\n",
       "  }\n",
       "\n",
       "  .colab-df-spinner {\n",
       "    border: 2px solid var(--fill-color);\n",
       "    border-color: transparent;\n",
       "    border-bottom-color: var(--fill-color);\n",
       "    animation:\n",
       "      spin 1s steps(1) infinite;\n",
       "  }\n",
       "\n",
       "  @keyframes spin {\n",
       "    0% {\n",
       "      border-color: transparent;\n",
       "      border-bottom-color: var(--fill-color);\n",
       "      border-left-color: var(--fill-color);\n",
       "    }\n",
       "    20% {\n",
       "      border-color: transparent;\n",
       "      border-left-color: var(--fill-color);\n",
       "      border-top-color: var(--fill-color);\n",
       "    }\n",
       "    30% {\n",
       "      border-color: transparent;\n",
       "      border-left-color: var(--fill-color);\n",
       "      border-top-color: var(--fill-color);\n",
       "      border-right-color: var(--fill-color);\n",
       "    }\n",
       "    40% {\n",
       "      border-color: transparent;\n",
       "      border-right-color: var(--fill-color);\n",
       "      border-top-color: var(--fill-color);\n",
       "    }\n",
       "    60% {\n",
       "      border-color: transparent;\n",
       "      border-right-color: var(--fill-color);\n",
       "    }\n",
       "    80% {\n",
       "      border-color: transparent;\n",
       "      border-right-color: var(--fill-color);\n",
       "      border-bottom-color: var(--fill-color);\n",
       "    }\n",
       "    90% {\n",
       "      border-color: transparent;\n",
       "      border-bottom-color: var(--fill-color);\n",
       "    }\n",
       "  }\n",
       "</style>\n",
       "\n",
       "  <script>\n",
       "    async function quickchart(key) {\n",
       "      const quickchartButtonEl =\n",
       "        document.querySelector('#' + key + ' button');\n",
       "      quickchartButtonEl.disabled = true;  // To prevent multiple clicks.\n",
       "      quickchartButtonEl.classList.add('colab-df-spinner');\n",
       "      try {\n",
       "        const charts = await google.colab.kernel.invokeFunction(\n",
       "            'suggestCharts', [key], {});\n",
       "      } catch (error) {\n",
       "        console.error('Error during call to suggestCharts:', error);\n",
       "      }\n",
       "      quickchartButtonEl.classList.remove('colab-df-spinner');\n",
       "      quickchartButtonEl.classList.add('colab-df-quickchart-complete');\n",
       "    }\n",
       "    (() => {\n",
       "      let quickchartButtonEl =\n",
       "        document.querySelector('#df-f247083d-cdc4-488e-b3a6-fefa44756343 button');\n",
       "      quickchartButtonEl.style.display =\n",
       "        google.colab.kernel.accessAllowed ? 'block' : 'none';\n",
       "    })();\n",
       "  </script>\n",
       "</div>\n",
       "    </div>\n",
       "  </div>\n"
      ],
      "text/plain": [
       "      sport  payload_bytes_3  payload_bytes_4  payload_bytes_5  \\\n",
       "0     63868              370              210             1832   \n",
       "1     57492             1034             2402             1832   \n",
       "2     39921             1034              283             2696   \n",
       "3     42404             2456             1112              338   \n",
       "4     41070             1034              283              312   \n",
       "...     ...              ...              ...              ...   \n",
       "2282  40716             1946              283              652   \n",
       "2283  33524             2456             2456              904   \n",
       "2284  55966             2456             1296              178   \n",
       "2285  43136             1648              283              600   \n",
       "2286  58778             1034             2796             2796   \n",
       "\n",
       "      payload_bytes_6  payload_bytes_7  payload_bytes_8  payload_bytes_9  \\\n",
       "0                 754              338             2456             2456   \n",
       "1                1434              128             2800             2800   \n",
       "2                2696             2492              762              582   \n",
       "3                1720             1048             1560             1048   \n",
       "4                1434              102              762             2446   \n",
       "...               ...              ...              ...              ...   \n",
       "2282             1434              228             1284              582   \n",
       "2283             2456              788              762              338   \n",
       "2284             2456             2456             2456             2456   \n",
       "2285             1434              196              252              928   \n",
       "2286              442             1077              762              582   \n",
       "\n",
       "      payload_bytes_10  payload_bytes_11  ...  pkt_len_11  pkt_len_12    0  \\\n",
       "0                 2456              2456  ...        1260        1260   55   \n",
       "1                 2050               542  ...         291         291   66   \n",
       "2                  410               160  ...         112         335   91   \n",
       "3                 2456              1200  ...         632          32   87   \n",
       "4                  410               344  ...         204          63   97   \n",
       "...                ...               ...  ...         ...         ...  ...   \n",
       "2282               410              1266  ...         665         674  172   \n",
       "2283               410              2456  ...        1260        1260  131   \n",
       "2284              2456              2456  ...        1260        1260  241   \n",
       "2285               410               566  ...          32          32  172   \n",
       "2286               186               566  ...          32         237   75   \n",
       "\n",
       "        1    2    3    4    5    6    7  \n",
       "0     120  147   65  170   14   68  136  \n",
       "1     116   25   18  218   70   73  126  \n",
       "2     253  185  139  243   67  106  209  \n",
       "3     188  167  158   27  179   73  232  \n",
       "4      46   98  210  215  102  164  108  \n",
       "...   ...  ...  ...  ...  ...  ...  ...  \n",
       "2282   17  240  131  130   87  143  208  \n",
       "2283   48  141  198  170   14   68  136  \n",
       "2284  200  198   21  170   14   68  136  \n",
       "2285   17  240  131  130   87  143  208  \n",
       "2286    9  212   91   22   59  196  106  \n",
       "\n",
       "[2287 rows x 41 columns]"
      ]
     },
     "execution_count": 935,
     "metadata": {},
     "output_type": "execute_result"
    }
   ],
   "source": [
    "test_data"
   ]
  },
  {
   "cell_type": "code",
   "execution_count": null,
   "metadata": {
    "id": "18_ldHvc16JV"
   },
   "outputs": [],
   "source": [
    "y_final_predict = model.predict(test_data)"
   ]
  },
  {
   "cell_type": "code",
   "execution_count": null,
   "metadata": {
    "id": "ZHPd3zjY3fd4"
   },
   "outputs": [],
   "source": [
    "submit = pd.DataFrame(y_final_predict, index = test_data.index)"
   ]
  },
  {
   "cell_type": "code",
   "execution_count": null,
   "metadata": {
    "id": "VUz5eUaP4syN"
   },
   "outputs": [],
   "source": [
    "submit.to_csv('Submission.csv')"
   ]
  },
  {
   "cell_type": "code",
   "execution_count": null,
   "metadata": {
    "colab": {
     "base_uri": "https://localhost:8080/"
    },
    "collapsed": true,
    "executionInfo": {
     "elapsed": 206,
     "status": "ok",
     "timestamp": 1717263246528,
     "user": {
      "displayName": "DedStarIY",
      "userId": "10791029023429426141"
     },
     "user_tz": -180
    },
    "id": "aHtFknYBFFnb",
    "jupyter": {
     "outputs_hidden": true
    },
    "outputId": "543c1111-d108-43ab-e614-998fd6ef2b46"
   },
   "outputs": [
    {
     "name": "stdout",
     "output_type": "stream",
     "text": [
      "sport: 0.14455734935565132\n",
      "payload_bytes_3: 1.1591110357800902\n",
      "payload_bytes_4: 18.449346619744457\n",
      "payload_bytes_5: 1.370078048306418\n",
      "payload_bytes_6: 1.1056586579305472\n",
      "payload_bytes_7: 0.28716109336542167\n",
      "payload_bytes_8: 0.5250656173223235\n",
      "payload_bytes_9: 1.3004857787989867\n",
      "payload_bytes_10: 1.27122705421375\n",
      "payload_bytes_11: 0.4512093958615977\n",
      "payload_bytes_12: 0.7653443245104957\n",
      "direction_4: 0.18128019159729508\n",
      "direction_5: 0.078620613816276\n",
      "direction_6: 0.14565378036710788\n",
      "direction_7: 0.11452747361523288\n",
      "direction_8: 0.0\n",
      "direction_9: 0.022230676750184943\n",
      "direction_10: 0.0\n",
      "direction_11: 0.0\n",
      "direction_12: 0.017003843455726655\n",
      "pkt_len_0: 0.09553723813066012\n",
      "pkt_len_1: 0.05473983810310441\n",
      "pkt_len_2: 0.09756771745970537\n",
      "pkt_len_3: 0.8805668143079175\n",
      "pkt_len_4: 1.8999784547233134\n",
      "pkt_len_5: 0.4314124128728348\n",
      "pkt_len_6: 0.22248854144243424\n",
      "pkt_len_7: 0.38504712234078936\n",
      "pkt_len_8: 0.023911797819670618\n",
      "pkt_len_9: 0.1583333024267306\n",
      "pkt_len_10: 0.16146834660301068\n",
      "pkt_len_11: 0.14482626067569154\n",
      "pkt_len_12: 0.2818566075576958\n",
      "0: 0.7776904640721971\n",
      "1: 18.463365196313422\n",
      "2: 12.668067842816523\n",
      "3: 0.17160330426611545\n",
      "4: 28.840965395856482\n",
      "5: 3.787746153828357\n",
      "6: 0.6822531445392421\n",
      "7: 2.382012489052505\n"
     ]
    }
   ],
   "source": [
    "# for_plot_feature = []\n",
    "# for_plot_importance = []\n",
    "# # Вывод важности признаков\n",
    "# feature_importances = model.get_feature_importance()\n",
    "# for feature_name, importance in zip(X_train.columns, feature_importances):\n",
    "#     print(f\"{feature_name}: {importance}\")\n",
    "#     if importance > 5:\n",
    "#       for_plot_feature.append(feature_name)\n",
    "#       for_plot_importance.append(importance)"
   ]
  },
  {
   "cell_type": "code",
   "execution_count": null,
   "metadata": {
    "colab": {
     "base_uri": "https://localhost:8080/",
     "height": 1000
    },
    "collapsed": true,
    "executionInfo": {
     "elapsed": 597,
     "status": "ok",
     "timestamp": 1717263235860,
     "user": {
      "displayName": "DedStarIY",
      "userId": "10791029023429426141"
     },
     "user_tz": -180
    },
    "id": "DAgUO_F-Sf_u",
    "jupyter": {
     "outputs_hidden": true
    },
    "outputId": "b9dd3af9-eb81-4ecb-b0a8-0b1687fbc76f"
   },
   "outputs": [
    {
     "data": {
      "text/plain": [
       "([0,\n",
       "  1,\n",
       "  2,\n",
       "  3,\n",
       "  4,\n",
       "  5,\n",
       "  6,\n",
       "  7,\n",
       "  8,\n",
       "  9,\n",
       "  10,\n",
       "  11,\n",
       "  12,\n",
       "  13,\n",
       "  14,\n",
       "  15,\n",
       "  16,\n",
       "  17,\n",
       "  18,\n",
       "  19,\n",
       "  20,\n",
       "  21,\n",
       "  22,\n",
       "  23,\n",
       "  24,\n",
       "  25,\n",
       "  26,\n",
       "  27,\n",
       "  28,\n",
       "  29,\n",
       "  30,\n",
       "  31,\n",
       "  32,\n",
       "  33,\n",
       "  34,\n",
       "  35],\n",
       " [Text(0, 0, 'sport'),\n",
       "  Text(1, 0, 'payload_bytes_3'),\n",
       "  Text(2, 0, 'payload_bytes_4'),\n",
       "  Text(3, 0, 'payload_bytes_5'),\n",
       "  Text(4, 0, 'payload_bytes_6'),\n",
       "  Text(5, 0, 'payload_bytes_7'),\n",
       "  Text(6, 0, 'payload_bytes_8'),\n",
       "  Text(7, 0, 'payload_bytes_9'),\n",
       "  Text(8, 0, 'payload_bytes_10'),\n",
       "  Text(9, 0, 'payload_bytes_11'),\n",
       "  Text(10, 0, 'payload_bytes_12'),\n",
       "  Text(11, 0, 'direction_4'),\n",
       "  Text(12, 0, 'direction_5'),\n",
       "  Text(13, 0, 'direction_6'),\n",
       "  Text(14, 0, 'direction_7'),\n",
       "  Text(15, 0, 'direction_8'),\n",
       "  Text(16, 0, 'direction_9'),\n",
       "  Text(17, 0, 'direction_10'),\n",
       "  Text(18, 0, 'direction_11'),\n",
       "  Text(19, 0, 'direction_12'),\n",
       "  Text(20, 0, 'pkt_len_0'),\n",
       "  Text(21, 0, 'pkt_len_1'),\n",
       "  Text(22, 0, 'pkt_len_2'),\n",
       "  Text(23, 0, 'pkt_len_3'),\n",
       "  Text(24, 0, 'pkt_len_4'),\n",
       "  Text(25, 0, 'pkt_len_5'),\n",
       "  Text(26, 0, 'pkt_len_6'),\n",
       "  Text(27, 0, 'pkt_len_7'),\n",
       "  Text(28, 0, 'pkt_len_8'),\n",
       "  Text(29, 0, 'pkt_len_9'),\n",
       "  Text(30, 0, 'pkt_len_10'),\n",
       "  Text(31, 0, 'pkt_len_11'),\n",
       "  Text(32, 0, 'pkt_len_12'),\n",
       "  Text(33, 0, '1'),\n",
       "  Text(34, 0, '2'),\n",
       "  Text(35, 0, '4')])"
      ]
     },
     "execution_count": 902,
     "metadata": {},
     "output_type": "execute_result"
    },
    {
     "data": {
      "image/png": "[encoded data removed]",
      "text/plain": [
       "<Figure size 1500x900 with 1 Axes>"
      ]
     },
     "metadata": {},
     "output_type": "display_data"
    }
   ],
   "source": [
    "# plt.subplots(figsize = (15,9))\n",
    "# plt.bar(for_plot_feature, for_plot_importance)\n",
    "# plt.xticks(rotation = 90)"
   ]
  }
 ],
 "metadata": {
  "colab": {
   "authorship_tag": "ABX9TyM0iC9e895vBarzyKvreaX7",
   "name": "",
   "version": ""
  },
  "kernelspec": {
   "display_name": "Python 3 (ipykernel)",
   "language": "python",
   "name": "python3"
  },
  "language_info": {
   "codemirror_mode": {
    "name": "ipython",
    "version": 3
   },
   "file_extension": ".py",
   "mimetype": "text/x-python",
   "name": "python",
   "nbconvert_exporter": "python",
   "pygments_lexer": "ipython3",
   "version": "3.12.2"
  },
  "widgets": {
   "application/vnd.jupyter.widget-state+json": {
    "state": {},
    "version_major": 2,
    "version_minor": 0
   }
  }
 },
 "nbformat": 4,
 "nbformat_minor": 4
}
